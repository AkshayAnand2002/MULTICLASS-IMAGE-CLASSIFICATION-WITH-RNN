{
  "nbformat": 4,
  "nbformat_minor": 0,
  "metadata": {
    "colab": {
      "provenance": []
    },
    "kernelspec": {
      "name": "python3",
      "display_name": "Python 3"
    }
  },
  "cells": [
    {
      "cell_type": "markdown",
      "metadata": {
        "id": "yqhuP8i8t6qy"
      },
      "source": [
        "# Step 1: Installation and Setup"
      ]
    },
    {
      "cell_type": "code",
      "metadata": {
        "id": "0v6YsrEht7a0",
        "colab": {
          "base_uri": "https://localhost:8080/"
        },
        "outputId": "f2e3b615-7999-429a-c040-9ecdd8d3db08"
      },
      "source": [
        "# Installing TensorFlow\n",
        "! pip install -q tensorflow-gpu"
      ],
      "execution_count": 1,
      "outputs": [
        {
          "output_type": "stream",
          "name": "stdout",
          "text": [
            "\u001b[2K     \u001b[90m━━━━━━━━━━━━━━━━━━━━━━━━━━━━━━━━━━━━━━━\u001b[0m \u001b[32m588.3/588.3 MB\u001b[0m \u001b[31m3.1 MB/s\u001b[0m eta \u001b[36m0:00:00\u001b[0m\n",
            "\u001b[2K     \u001b[90m━━━━━━━━━━━━━━━━━━━━━━━━━━━━━━━━━━━━━━\u001b[0m \u001b[32m439.2/439.2 KB\u001b[0m \u001b[31m36.5 MB/s\u001b[0m eta \u001b[36m0:00:00\u001b[0m\n",
            "\u001b[2K     \u001b[90m━━━━━━━━━━━━━━━━━━━━━━━━━━━━━━━━━━━━━━━━\u001b[0m \u001b[32m6.0/6.0 MB\u001b[0m \u001b[31m59.4 MB/s\u001b[0m eta \u001b[36m0:00:00\u001b[0m\n",
            "\u001b[2K     \u001b[90m━━━━━━━━━━━━━━━━━━━━━━━━━━━━━━━━━━━━━━━━\u001b[0m \u001b[32m1.7/1.7 MB\u001b[0m \u001b[31m44.7 MB/s\u001b[0m eta \u001b[36m0:00:00\u001b[0m\n",
            "\u001b[?25h\u001b[31mERROR: pip's dependency resolver does not currently take into account all the packages that are installed. This behaviour is the source of the following dependency conflicts.\n",
            "tensorflow 2.9.2 requires flatbuffers<2,>=1.12, but you have flatbuffers 23.1.4 which is incompatible.\n",
            "tensorflow 2.9.2 requires keras<2.10.0,>=2.9.0rc0, but you have keras 2.11.0 which is incompatible.\n",
            "tensorflow 2.9.2 requires tensorboard<2.10,>=2.9, but you have tensorboard 2.11.0 which is incompatible.\n",
            "tensorflow 2.9.2 requires tensorflow-estimator<2.10.0,>=2.9.0rc0, but you have tensorflow-estimator 2.11.0 which is incompatible.\u001b[0m\u001b[31m\n",
            "\u001b[0m"
          ]
        }
      ]
    },
    {
      "cell_type": "code",
      "metadata": {
        "id": "2gSo_qQpwYEW"
      },
      "source": [
        "import tensorflow as tf"
      ],
      "execution_count": 2,
      "outputs": []
    },
    {
      "cell_type": "code",
      "metadata": {
        "id": "B4n6ae01woPf",
        "colab": {
          "base_uri": "https://localhost:8080/"
        },
        "outputId": "1297fb9e-0bf5-4517-969f-2afec31a8cf6"
      },
      "source": [
        "print(tf.__version__)"
      ],
      "execution_count": 3,
      "outputs": [
        {
          "output_type": "stream",
          "name": "stdout",
          "text": [
            "2.11.0\n"
          ]
        }
      ]
    },
    {
      "cell_type": "code",
      "metadata": {
        "id": "1G_-lv5nwtH7"
      },
      "source": [
        "import numpy as np\n",
        "import pandas as pd\n",
        "import matplotlib.pyplot as plt"
      ],
      "execution_count": 4,
      "outputs": []
    },
    {
      "cell_type": "markdown",
      "metadata": {
        "id": "4EBe2505w7-r"
      },
      "source": [
        "# Step 2: Data Preprocessing"
      ]
    },
    {
      "cell_type": "code",
      "metadata": {
        "id": "C2csvRSowzPb"
      },
      "source": [
        "# importing the dataset\n",
        "from tensorflow.keras.datasets import mnist"
      ],
      "execution_count": 5,
      "outputs": []
    },
    {
      "cell_type": "code",
      "metadata": {
        "id": "VgjgaQxFxT3K",
        "colab": {
          "base_uri": "https://localhost:8080/"
        },
        "outputId": "7df9e384-102b-4a88-a9f6-d87ca8b2d08a"
      },
      "source": [
        "# loading the dataset\n",
        "(x_train, y_train), (x_test, y_test) = mnist.load_data()"
      ],
      "execution_count": 6,
      "outputs": [
        {
          "output_type": "stream",
          "name": "stdout",
          "text": [
            "Downloading data from https://storage.googleapis.com/tensorflow/tf-keras-datasets/mnist.npz\n",
            "11490434/11490434 [==============================] - 0s 0us/step\n"
          ]
        }
      ]
    },
    {
      "cell_type": "code",
      "metadata": {
        "id": "9PuMMuq1x8Jp",
        "colab": {
          "base_uri": "https://localhost:8080/"
        },
        "outputId": "cd809f76-27c7-4fd0-ff62-42e6cb1104b9"
      },
      "source": [
        "x_train.shape, x_test.shape\n",
        "#60000 IMAGES IN X_TRAIN AND 10000 IMAGES IN X_TEST.\n",
        "#SIZE OF EACH IMAGE IS 28 X 28."
      ],
      "execution_count": 7,
      "outputs": [
        {
          "output_type": "execute_result",
          "data": {
            "text/plain": [
              "((60000, 28, 28), (10000, 28, 28))"
            ]
          },
          "metadata": {},
          "execution_count": 7
        }
      ]
    },
    {
      "cell_type": "code",
      "metadata": {
        "id": "lzeNNXuIydd7",
        "colab": {
          "base_uri": "https://localhost:8080/"
        },
        "outputId": "90acb7ba-e72b-407c-e14d-03f25f49447e"
      },
      "source": [
        "y_train.shape, y_test.shape\n",
        "#60000 IMAGES IN Y_TRAIN AND 10000 IMAGES IN Y_TEST."
      ],
      "execution_count": 8,
      "outputs": [
        {
          "output_type": "execute_result",
          "data": {
            "text/plain": [
              "((60000,), (10000,))"
            ]
          },
          "metadata": {},
          "execution_count": 8
        }
      ]
    },
    {
      "cell_type": "code",
      "metadata": {
        "id": "LQ_wMKt7ykea",
        "colab": {
          "base_uri": "https://localhost:8080/"
        },
        "outputId": "b3a4a5cc-1e4b-4633-f07c-c8533f1eb984"
      },
      "source": [
        "x_train.min(), x_train.max()"
      ],
      "execution_count": 9,
      "outputs": [
        {
          "output_type": "execute_result",
          "data": {
            "text/plain": [
              "(0, 255)"
            ]
          },
          "metadata": {},
          "execution_count": 9
        }
      ]
    },
    {
      "cell_type": "code",
      "metadata": {
        "id": "XIa_TuWuyvuq",
        "colab": {
          "base_uri": "https://localhost:8080/"
        },
        "outputId": "3acfa2c6-38f2-4d27-c1e1-5803b17033d5"
      },
      "source": [
        "y_train.min(), y_train.max()"
      ],
      "execution_count": 10,
      "outputs": [
        {
          "output_type": "execute_result",
          "data": {
            "text/plain": [
              "(0, 9)"
            ]
          },
          "metadata": {},
          "execution_count": 10
        }
      ]
    },
    {
      "cell_type": "code",
      "metadata": {
        "id": "4a9gxUayy_39"
      },
      "source": [
        "# normalize the dataset\n",
        "x_train = x_train / 255.0\n",
        "x_test = x_test / 255.0"
      ],
      "execution_count": 11,
      "outputs": []
    },
    {
      "cell_type": "code",
      "metadata": {
        "id": "Ru9_zjGIzPi5",
        "colab": {
          "base_uri": "https://localhost:8080/"
        },
        "outputId": "2875b912-47b0-451b-ed65-d3534cdfd629"
      },
      "source": [
        "x_train.min(), x_train.max()"
      ],
      "execution_count": 12,
      "outputs": [
        {
          "output_type": "execute_result",
          "data": {
            "text/plain": [
              "(0.0, 1.0)"
            ]
          },
          "metadata": {},
          "execution_count": 12
        }
      ]
    },
    {
      "cell_type": "code",
      "metadata": {
        "id": "wm2jsFx3zWKV",
        "colab": {
          "base_uri": "https://localhost:8080/",
          "height": 282
        },
        "outputId": "98512bad-b348-4c63-c9a2-c2c3ee287506"
      },
      "source": [
        "plt.imshow(x_train[5])"
      ],
      "execution_count": 13,
      "outputs": [
        {
          "output_type": "execute_result",
          "data": {
            "text/plain": [
              "<matplotlib.image.AxesImage at 0x7fbbd3809820>"
            ]
          },
          "metadata": {},
          "execution_count": 13
        },
        {
          "output_type": "display_data",
          "data": {
            "text/plain": [
              "<Figure size 432x288 with 1 Axes>"
            ],
            "image/png": "[encoded data removed]"
          },
          "metadata": {
            "needs_background": "light"
          }
        }
      ]
    },
    {
      "cell_type": "code",
      "metadata": {
        "id": "GDepmnCgzoPZ",
        "colab": {
          "base_uri": "https://localhost:8080/"
        },
        "outputId": "49e07fcb-368e-4441-8e64-3c1785cfa760"
      },
      "source": [
        "y_train[5]"
      ],
      "execution_count": 14,
      "outputs": [
        {
          "output_type": "execute_result",
          "data": {
            "text/plain": [
              "2"
            ]
          },
          "metadata": {},
          "execution_count": 14
        }
      ]
    },
    {
      "cell_type": "markdown",
      "metadata": {
        "id": "crC37q3L0YEh"
      },
      "source": [
        "# Step 3: Building the LSTM"
      ]
    },
    {
      "cell_type": "code",
      "metadata": {
        "id": "DuXUtEDMWP8x"
      },
      "source": [
        "# define an object (initilizing RNN)\n",
        "model = tf.keras.models.Sequential()"
      ],
      "execution_count": 15,
      "outputs": []
    },
    {
      "cell_type": "code",
      "metadata": {
        "id": "jt025futX282"
      },
      "source": [
        "# first LSTM layer\n",
        "model.add(tf.keras.layers.LSTM(units=128, activation='relu', return_sequences=True, input_shape=(28, 28)))\n",
        "model.add(tf.keras.layers.Dropout(0.2))\n",
        "#LSTM Layer will be used to understand relationship between different layers of\n",
        "#sequence.In LSTM by default activation function = tanh but here we will use ReLU.\n",
        "#We want 1st LSTM Layer to return sequences.If we want to add dense layer after\n",
        "#LSTM layer then we will not return sequences. But here we are having 1 more LSTM layer\n",
        "#after previous LSTM layer. So return_sequences=True.\n",
        "#input_shape is taken from x_train,x_test.\n",
        "#dropout layer is a regularization technique to avoid overfitting.\n",
        "# second LSTM layer\n",
        "model.add(tf.keras.layers.LSTM(units=128, activation='relu'))\n",
        "model.add(tf.keras.layers.Dropout(0.2))\n",
        "#in 2nd LSTM layer we don't specify return_sequences=True as we are not adding 1 more\n",
        "#LSTM layer after this layer.\n",
        "# fully connected layer (first dense layer)\n",
        "model.add(tf.keras.layers.Dense(units=32, activation='relu'))\n",
        "model.add(tf.keras.layers.Dropout(0.2))\n",
        "# output layer\n",
        "model.add(tf.keras.layers.Dense(units=10, activation='softmax'))\n",
        "#for binary output we use activation function = sigmoid.\n",
        "#here we have multiple output so activation function = softmax."
      ],
      "execution_count": 16,
      "outputs": []
    },
    {
      "cell_type": "code",
      "metadata": {
        "id": "C66ss1DGada9",
        "colab": {
          "base_uri": "https://localhost:8080/"
        },
        "outputId": "89ebb58c-369d-447d-893d-a5418d65d246"
      },
      "source": [
        "model.summary()"
      ],
      "execution_count": 17,
      "outputs": [
        {
          "output_type": "stream",
          "name": "stdout",
          "text": [
            "Model: \"sequential\"\n",
            "_________________________________________________________________\n",
            " Layer (type)                Output Shape              Param #   \n",
            "=================================================================\n",
            " lstm (LSTM)                 (None, 28, 128)           80384     \n",
            "                                                                 \n",
            " dropout (Dropout)           (None, 28, 128)           0         \n",
            "                                                                 \n",
            " lstm_1 (LSTM)               (None, 128)               131584    \n",
            "                                                                 \n",
            " dropout_1 (Dropout)         (None, 128)               0         \n",
            "                                                                 \n",
            " dense (Dense)               (None, 32)                4128      \n",
            "                                                                 \n",
            " dropout_2 (Dropout)         (None, 32)                0         \n",
            "                                                                 \n",
            " dense_1 (Dense)             (None, 10)                330       \n",
            "                                                                 \n",
            "=================================================================\n",
            "Total params: 216,426\n",
            "Trainable params: 216,426\n",
            "Non-trainable params: 0\n",
            "_________________________________________________________________\n"
          ]
        }
      ]
    },
    {
      "cell_type": "code",
      "metadata": {
        "id": "fgy281g4asct"
      },
      "source": [
        "opt = tf.keras.optimizers.Adam(learning_rate=0.001)\n",
        "#Optimizer will find global minimum.\n",
        "#Here we use Adam Optimer which is stochastic gradient descent optimizer.\n",
        "#Loss function guides the optimizer to find the global minimum.\n",
        "#metrics with accuracy helps to calculate accuracy."
      ],
      "execution_count": 18,
      "outputs": []
    },
    {
      "cell_type": "code",
      "metadata": {
        "id": "l3-wqsXObdLN"
      },
      "source": [
        "# compile the model\n",
        "model.compile(optimizer=opt, loss='sparse_categorical_crossentropy', metrics=['accuracy'])"
      ],
      "execution_count": 20,
      "outputs": []
    },
    {
      "cell_type": "markdown",
      "metadata": {
        "id": "pwq9iD5mc0yB"
      },
      "source": [
        "# Step 4: Training the model"
      ]
    },
    {
      "cell_type": "code",
      "metadata": {
        "id": "O9hgjaC-c1pK",
        "colab": {
          "base_uri": "https://localhost:8080/"
        },
        "outputId": "c23a1f7c-9204-4eac-d045-dedf9a77a093"
      },
      "source": [
        "history =  model.fit(x_train, y_train, epochs=10, validation_data=(x_test, y_test))"
      ],
      "execution_count": 21,
      "outputs": [
        {
          "output_type": "stream",
          "name": "stdout",
          "text": [
            "Epoch 1/10\n",
            "1875/1875 [==============================] - 115s 60ms/step - loss: 0.6188 - accuracy: 0.8008 - val_loss: 0.1681 - val_accuracy: 0.9515\n",
            "Epoch 2/10\n",
            "1875/1875 [==============================] - 122s 65ms/step - loss: 0.1763 - accuracy: 0.9515 - val_loss: 0.0873 - val_accuracy: 0.9744\n",
            "Epoch 3/10\n",
            "1875/1875 [==============================] - 117s 62ms/step - loss: 0.1166 - accuracy: 0.9686 - val_loss: 0.0835 - val_accuracy: 0.9777\n",
            "Epoch 4/10\n",
            "1875/1875 [==============================] - 109s 58ms/step - loss: 0.0932 - accuracy: 0.9752 - val_loss: 0.0797 - val_accuracy: 0.9799\n",
            "Epoch 5/10\n",
            "1875/1875 [==============================] - 112s 60ms/step - loss: 0.0771 - accuracy: 0.9793 - val_loss: 0.0832 - val_accuracy: 0.9774\n",
            "Epoch 6/10\n",
            "1875/1875 [==============================] - 109s 58ms/step - loss: 0.0769 - accuracy: 0.9802 - val_loss: 0.0708 - val_accuracy: 0.9790\n",
            "Epoch 7/10\n",
            "1875/1875 [==============================] - 113s 60ms/step - loss: 0.0598 - accuracy: 0.9831 - val_loss: 0.0483 - val_accuracy: 0.9868\n",
            "Epoch 8/10\n",
            "1875/1875 [==============================] - 109s 58ms/step - loss: 0.0489 - accuracy: 0.9871 - val_loss: 0.0561 - val_accuracy: 0.9861\n",
            "Epoch 9/10\n",
            "1875/1875 [==============================] - 113s 60ms/step - loss: 0.0460 - accuracy: 0.9872 - val_loss: 0.0493 - val_accuracy: 0.9873\n",
            "Epoch 10/10\n",
            "1875/1875 [==============================] - 109s 58ms/step - loss: 0.1313 - accuracy: 0.9858 - val_loss: 0.0449 - val_accuracy: 0.9875\n"
          ]
        }
      ]
    },
    {
      "cell_type": "code",
      "metadata": {
        "id": "jtAh5AwomUOZ",
        "colab": {
          "base_uri": "https://localhost:8080/"
        },
        "outputId": "7ee411a3-e845-4ad8-b0a2-c05c8ef79b17"
      },
      "source": [
        "# predictions\n",
        "#y_pred = model.predict_classes(x_test)\n",
        "y_pred = np.argmax(model.predict(x_test), axis=1)"
      ],
      "execution_count": 22,
      "outputs": [
        {
          "output_type": "stream",
          "name": "stdout",
          "text": [
            "313/313 [==============================] - 6s 19ms/step\n"
          ]
        }
      ]
    },
    {
      "cell_type": "code",
      "metadata": {
        "id": "wQVQ1eIIme9D",
        "colab": {
          "base_uri": "https://localhost:8080/"
        },
        "outputId": "19738eaa-26cc-46f8-d5ec-1d3000ee6824"
      },
      "source": [
        "print(y_pred[10]), print(y_test[10])"
      ],
      "execution_count": 23,
      "outputs": [
        {
          "output_type": "stream",
          "name": "stdout",
          "text": [
            "0\n",
            "0\n"
          ]
        },
        {
          "output_type": "execute_result",
          "data": {
            "text/plain": [
              "(None, None)"
            ]
          },
          "metadata": {},
          "execution_count": 23
        }
      ]
    },
    {
      "cell_type": "code",
      "source": [
        "model.evaluate(x_test,y_test)"
      ],
      "metadata": {
        "colab": {
          "base_uri": "https://localhost:8080/"
        },
        "id": "oV-rC4dKi933",
        "outputId": "96acbf2a-c4ed-41fd-e858-4652ac962406"
      },
      "execution_count": 24,
      "outputs": [
        {
          "output_type": "stream",
          "name": "stdout",
          "text": [
            "313/313 [==============================] - 6s 19ms/step - loss: 0.0449 - accuracy: 0.9875\n"
          ]
        },
        {
          "output_type": "execute_result",
          "data": {
            "text/plain": [
              "[0.04487195611000061, 0.987500011920929]"
            ]
          },
          "metadata": {},
          "execution_count": 24
        }
      ]
    },
    {
      "cell_type": "code",
      "source": [
        "x_new=x_test[:6] #taking 5 values with indices 0,1,2,3,4,5. "
      ],
      "metadata": {
        "id": "xL8llKqtjDCH"
      },
      "execution_count": 25,
      "outputs": []
    },
    {
      "cell_type": "code",
      "source": [
        "y_pred=model.predict(x_new)"
      ],
      "metadata": {
        "colab": {
          "base_uri": "https://localhost:8080/"
        },
        "id": "7MfSjgQVjHPU",
        "outputId": "76c38d53-a668-4795-e6a0-25236e729ee5"
      },
      "execution_count": 26,
      "outputs": [
        {
          "output_type": "stream",
          "name": "stdout",
          "text": [
            "1/1 [==============================] - 0s 22ms/step\n"
          ]
        }
      ]
    },
    {
      "cell_type": "code",
      "source": [
        "y_pred"
      ],
      "metadata": {
        "colab": {
          "base_uri": "https://localhost:8080/"
        },
        "id": "Ik2gfVSujNgl",
        "outputId": "eba17c32-56ea-496a-ab5c-9a85de83393a"
      },
      "execution_count": 27,
      "outputs": [
        {
          "output_type": "execute_result",
          "data": {
            "text/plain": [
              "array([[3.58999874e-12, 4.35509717e-09, 2.83976870e-10, 1.68152867e-10,\n",
              "        3.52709351e-09, 6.37713569e-13, 8.84332837e-17, 9.99999762e-01,\n",
              "        1.04150716e-10, 1.98743692e-07],\n",
              "       [4.27194442e-36, 1.22703887e-25, 1.00000000e+00, 2.33923882e-25,\n",
              "        0.00000000e+00, 1.26905383e-34, 4.11182784e-38, 8.71669968e-31,\n",
              "        1.11722734e-25, 0.00000000e+00],\n",
              "       [1.15204658e-10, 9.99974012e-01, 1.74078650e-06, 1.28653454e-07,\n",
              "        1.39825852e-06, 2.44378828e-08, 2.78130194e-08, 2.11242022e-05,\n",
              "        1.55805787e-06, 2.47773491e-09],\n",
              "       [9.82798755e-01, 1.24148903e-06, 2.09237263e-03, 4.32308734e-05,\n",
              "        5.55685474e-05, 4.65597317e-04, 1.27955414e-02, 2.24651799e-08,\n",
              "        1.67810079e-03, 6.96108182e-05],\n",
              "       [1.69099601e-09, 4.24303259e-08, 2.23361288e-10, 1.27364141e-09,\n",
              "        9.99979377e-01, 1.19864083e-07, 5.36024949e-08, 5.04654849e-07,\n",
              "        1.27488153e-08, 1.98705347e-05],\n",
              "       [6.74176643e-13, 9.99997735e-01, 7.13549086e-09, 9.86401294e-10,\n",
              "        5.09935205e-08, 1.20408586e-10, 1.99505995e-10, 2.30736396e-06,\n",
              "        5.74410457e-08, 2.23000039e-11]], dtype=float32)"
            ]
          },
          "metadata": {},
          "execution_count": 27
        }
      ]
    },
    {
      "cell_type": "code",
      "source": [
        "y_test[:6]"
      ],
      "metadata": {
        "colab": {
          "base_uri": "https://localhost:8080/"
        },
        "id": "3FcYFy00jRvH",
        "outputId": "1b8a917c-1e49-4677-c0b2-13be112c3bdf"
      },
      "execution_count": 28,
      "outputs": [
        {
          "output_type": "execute_result",
          "data": {
            "text/plain": [
              "array([7, 2, 1, 0, 4, 1], dtype=uint8)"
            ]
          },
          "metadata": {},
          "execution_count": 28
        }
      ]
    },
    {
      "cell_type": "code",
      "source": [
        "y_pred.round(0)"
      ],
      "metadata": {
        "colab": {
          "base_uri": "https://localhost:8080/"
        },
        "id": "FCblhaorjVte",
        "outputId": "0decd072-d7fe-419c-9f6d-9e0143b9ebf7"
      },
      "execution_count": 29,
      "outputs": [
        {
          "output_type": "execute_result",
          "data": {
            "text/plain": [
              "array([[0., 0., 0., 0., 0., 0., 0., 1., 0., 0.],\n",
              "       [0., 0., 1., 0., 0., 0., 0., 0., 0., 0.],\n",
              "       [0., 1., 0., 0., 0., 0., 0., 0., 0., 0.],\n",
              "       [1., 0., 0., 0., 0., 0., 0., 0., 0., 0.],\n",
              "       [0., 0., 0., 0., 1., 0., 0., 0., 0., 0.],\n",
              "       [0., 1., 0., 0., 0., 0., 0., 0., 0., 0.]], dtype=float32)"
            ]
          },
          "metadata": {},
          "execution_count": 29
        }
      ]
    },
    {
      "cell_type": "code",
      "source": [
        "#we get 1 corresponding to the number it predicts.\n",
        "#Numbering starts from 0 and ends at 9.\n",
        "#for 1st 1 corresponds to no. 7.\n",
        "#for 2nd 1 corresponds to no. 2.\n",
        "#similarly for others."
      ],
      "metadata": {
        "id": "rgIQA0IpotAe"
      },
      "execution_count": 32,
      "outputs": []
    },
    {
      "cell_type": "markdown",
      "metadata": {
        "id": "OOh3bEG-oG2G"
      },
      "source": [
        "# Step 5: Learning Curve"
      ]
    },
    {
      "cell_type": "code",
      "metadata": {
        "id": "gr8I_FYGoLpn"
      },
      "source": [
        "def learning_curve(history, epoch):\n",
        "\n",
        "  # training vs validation accuracy\n",
        "  epoch_range = range(1, epoch+1)\n",
        "  plt.plot(epoch_range, history.history['accuracy'])\n",
        "  plt.plot(epoch_range, history.history['val_accuracy'])\n",
        "  plt.title('Model Accuracy')\n",
        "  plt.ylabel('Accuracy')\n",
        "  plt.xlabel('Epoch')\n",
        "  plt.legend(['Train', 'val'], loc='upper left')\n",
        "  plt.show()\n",
        "\n",
        "  # training vs validation loss\n",
        "  plt.plot(epoch_range, history.history['loss'])\n",
        "  plt.plot(epoch_range, history.history['val_loss'])\n",
        "  plt.title('Model Loss')\n",
        "  plt.ylabel('Loss')\n",
        "  plt.xlabel('Epoch')\n",
        "  plt.legend(['Train', 'val'], loc='upper left')\n",
        "  plt.show()"
      ],
      "execution_count": 30,
      "outputs": []
    },
    {
      "cell_type": "code",
      "metadata": {
        "id": "6mvfbjbPonnY",
        "colab": {
          "base_uri": "https://localhost:8080/",
          "height": 573
        },
        "outputId": "f7c376a3-0ab0-4894-85ff-d60e71b7886c"
      },
      "source": [
        "learning_curve(history, 10)"
      ],
      "execution_count": 31,
      "outputs": [
        {
          "output_type": "display_data",
          "data": {
            "text/plain": [
              "<Figure size 432x288 with 1 Axes>"
            ],
            "image/png": "[encoded data removed]"
          },
          "metadata": {
            "needs_background": "light"
          }
        },
        {
          "output_type": "display_data",
          "data": {
            "text/plain": [
              "<Figure size 432x288 with 1 Axes>"
            ],
            "image/png": "[encoded data removed]"
          },
          "metadata": {
            "needs_background": "light"
          }
        }
      ]
    },
    {
      "cell_type": "code",
      "source": [
        "#IT IS CLEAR FROM ABOVE 2 GRAPHS THAT NO OVERFITTING OR UNDERFITTING\n",
        "#OCCURS IN THE MODEL."
      ],
      "metadata": {
        "id": "zePiE3L3lSNs"
      },
      "execution_count": 33,
      "outputs": []
    }
  ]
}